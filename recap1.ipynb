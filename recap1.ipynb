{
 "cells": [
  {
   "cell_type": "code",
   "execution_count": 1,
   "metadata": {},
   "outputs": [
    {
     "name": "stdout",
     "output_type": "stream",
     "text": [
      "Enter a string: \"Duqeydii Dhammmaatay tolow dirirka yaa eegi \n",
      "{'a': 7, 'e': 3, 'i': 5, 'o': 2, 'u': 1}\n"
     ]
    }
   ],
   "source": [
    "# Program to count the number of each vowel in a string\n",
    "\n",
    "# string of vowels\n",
    "vowels = 'aeiou'\n",
    "\n",
    "# change this value for a different result\n",
    "#ip_str = 'Hello, have you tried our turorial section yet?'\n",
    "\n",
    "# uncomment to take input from the user\n",
    "ip_str = input(\"Enter a string: \")\n",
    "\n",
    "# make it suitable for caseless comparisions\n",
    "ip_str = ip_str.casefold()\n",
    "\n",
    "# make a dictionary with each vowel a key and value 0\n",
    "count = {}.fromkeys(vowels,0)\n",
    "\n",
    "# count the vowels\n",
    "for char in ip_str:\n",
    "   if char in count:\n",
    "       count[char] += 1\n",
    "\n",
    "print(count)"
   ]
  },
  {
   "cell_type": "code",
   "execution_count": 2,
   "metadata": {},
   "outputs": [
    {
     "name": "stdout",
     "output_type": "stream",
     "text": [
      "Enter a number: 91\n",
      "The square root of 91.000 is 9.539\n"
     ]
    }
   ],
   "source": [
    "# Python Program to calculate the square root\n",
    "\n",
    "# Note: change this value for a different result\n",
    "#num = 8 \n",
    "\n",
    "# uncomment to take the input from the user\n",
    "num = float(input('Enter a number: '))\n",
    "num_sqrt = num ** 0.5\n",
    "print('The square root of %0.3f is %0.3f'%(num ,num_sqrt))"
   ]
  },
  {
   "cell_type": "code",
   "execution_count": 3,
   "metadata": {},
   "outputs": [
    {
     "name": "stdout",
     "output_type": "stream",
     "text": [
      "Enter first side: 5\n",
      "Enter second side: 6\n",
      "Enter third side: 7\n",
      "The area of the triangle is 14.70\n"
     ]
    }
   ],
   "source": [
    "\n",
    "# Uncomment below to take inputs from the user\n",
    "a = float(input('Enter first side: '))\n",
    "b = float(input('Enter second side: '))\n",
    "c = float(input('Enter third side: '))\n",
    "\n",
    "# calculate the semi-perimeter\n",
    "s = (a + b + c) / 2\n",
    "\n",
    "# calculate the area\n",
    "area = (s*(s-a)*(s-b)*(s-c)) ** 0.5\n",
    "print('The area of the triangle is %0.2f' %area)"
   ]
  },
  {
   "cell_type": "code",
   "execution_count": 5,
   "metadata": {},
   "outputs": [
    {
     "name": "stdout",
     "output_type": "stream",
     "text": [
      "Enter a number: 789\n",
      "789 is Odd 'waa Kinsi '\n"
     ]
    }
   ],
   "source": [
    "num = int(input(\"Enter a number: \"))\n",
    "if (num % 2) == 0:\n",
    "   print(\"{0} is Even 'waa dhaban'\".format(num))\n",
    "else:\n",
    "   print(\"{0} is Odd 'waa Kinsi '\".format(num))"
   ]
  },
  {
   "cell_type": "code",
   "execution_count": null,
   "metadata": {},
   "outputs": [],
   "source": []
  }
 ],
 "metadata": {
  "kernelspec": {
   "display_name": "Python 3",
   "language": "python",
   "name": "python3"
  },
  "language_info": {
   "codemirror_mode": {
    "name": "ipython",
    "version": 3
   },
   "file_extension": ".py",
   "mimetype": "text/x-python",
   "name": "python",
   "nbconvert_exporter": "python",
   "pygments_lexer": "ipython3",
   "version": "3.7.3"
  }
 },
 "nbformat": 4,
 "nbformat_minor": 2
}

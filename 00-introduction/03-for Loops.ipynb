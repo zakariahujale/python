{
 "cells": [
  {
   "cell_type": "markdown",
   "metadata": {},
   "source": [
    "# for Loops\n",
    "\n",
    "A <code>for</code> loop acts as an iterator in Python; it goes through items that are in a *sequence* or any other iterable item. Objects that we've learned about that we can iterate over include strings, lists, tuples, and even built-in iterables for dictionaries, such as keys or values.\n",
    "\n",
    "We've already seen the <code>for</code> statement a little bit in past lectures but now let's formalize our understanding.\n",
    "\n",
    "Here's the general format for a <code>for</code> loop in Python:\n",
    "\n",
    "    for item in object:\n",
    "        statements to do stuff\n",
    "    "
   ]
  },
  {
   "cell_type": "markdown",
   "metadata": {},
   "source": [
    "The variable name used for the item is completely up to the coder, so use your best judgment for choosing a name that makes sense and you will be able to understand when revisiting your code. This item name can then be referenced inside your loop, for example if you wanted to use <code>if</code> statements to perform checks.\n",
    "\n",
    "Let's go ahead and work through several example of <code>for</code> loops using a variety of data object types. We'll start simple and build more complexity later on.\n",
    "\n",
    "## Example 1\n",
    "Iterating through a list"
   ]
  },
  {
   "cell_type": "code",
   "execution_count": 1,
   "metadata": {},
   "outputs": [],
   "source": [
    "# We'll learn how to automate this sort of list in the next lecture\n",
    "list1 = [1,2,3,4,5,6,7,8,9,10]"
   ]
  },
  {
   "cell_type": "code",
   "execution_count": 2,
   "metadata": {},
   "outputs": [
    {
     "name": "stdout",
     "output_type": "stream",
     "text": [
      "1\n",
      "2\n",
      "3\n",
      "4\n",
      "5\n",
      "6\n",
      "7\n",
      "8\n",
      "9\n",
      "10\n"
     ]
    }
   ],
   "source": [
    "for num in list1:\n",
    "    print(num)"
   ]
  },
  {
   "cell_type": "markdown",
   "metadata": {},
   "source": [
    "Great! Hopefully this makes sense. Now let's add an <code>if</code> statement to check for even numbers. We'll first introduce a new concept here--the modulo.\n",
    "### Modulo\n",
    "The modulo allows us to get the remainder in a division and uses the % symbol. For example:"
   ]
  },
  {
   "cell_type": "code",
   "execution_count": 3,
   "metadata": {},
   "outputs": [
    {
     "data": {
      "text/plain": [
       "2"
      ]
     },
     "execution_count": 3,
     "metadata": {},
     "output_type": "execute_result"
    }
   ],
   "source": [
    "17 % 5"
   ]
  },
  {
   "cell_type": "markdown",
   "metadata": {},
   "source": [
    "This makes sense since 17 divided by 5 is 3 remainder 2. Let's see a few more quick examples:"
   ]
  },
  {
   "cell_type": "code",
   "execution_count": 4,
   "metadata": {},
   "outputs": [
    {
     "data": {
      "text/plain": [
       "1"
      ]
     },
     "execution_count": 4,
     "metadata": {},
     "output_type": "execute_result"
    }
   ],
   "source": [
    "# 3 Remainder 1\n",
    "10 % 3"
   ]
  },
  {
   "cell_type": "code",
   "execution_count": 5,
   "metadata": {},
   "outputs": [
    {
     "data": {
      "text/plain": [
       "4"
      ]
     },
     "execution_count": 5,
     "metadata": {},
     "output_type": "execute_result"
    }
   ],
   "source": [
    "# 2 Remainder 4\n",
    "18 % 7"
   ]
  },
  {
   "cell_type": "code",
   "execution_count": 6,
   "metadata": {},
   "outputs": [
    {
     "data": {
      "text/plain": [
       "0"
      ]
     },
     "execution_count": 6,
     "metadata": {},
     "output_type": "execute_result"
    }
   ],
   "source": [
    "# 2 no remainder\n",
    "4 % 2"
   ]
  },
  {
   "cell_type": "markdown",
   "metadata": {},
   "source": [
    "Notice that if a number is fully divisible with no remainder, the result of the modulo call is 0. We can use this to test for even numbers, since if a number modulo 2 is equal to 0, that means it is an even number!\n",
    "\n",
    "Back to the <code>for</code> loops!\n",
    "\n",
    "## Example 2\n",
    "Let's print only the even numbers from that list!"
   ]
  },
  {
   "cell_type": "code",
   "execution_count": 1,
   "metadata": {},
   "outputs": [
    {
     "name": "stdout",
     "output_type": "stream",
     "text": [
      "this is Even 0\n",
      "this is odd 3\n",
      "this is Even 6\n",
      "this is odd 9\n",
      "this is Even 12\n",
      "this is odd 15\n",
      "this is Even 18\n",
      "this is odd 21\n",
      "this is Even 24\n",
      "this is odd 27\n",
      "this is Even 30\n",
      "this is odd 33\n",
      "this is Even 36\n",
      "this is odd 39\n",
      "this is Even 42\n",
      "this is odd 45\n",
      "this is Even 48\n",
      "this is odd 51\n",
      "this is Even 54\n",
      "this is odd 57\n",
      "this is Even 60\n",
      "this is odd 63\n",
      "this is Even 66\n",
      "this is odd 69\n",
      "this is Even 72\n",
      "this is odd 75\n",
      "this is Even 78\n",
      "this is odd 81\n",
      "this is Even 84\n",
      "this is odd 87\n",
      "this is Even 90\n",
      "this is odd 93\n",
      "this is Even 96\n",
      "this is odd 99\n",
      "this is Even 102\n",
      "this is odd 105\n",
      "this is Even 108\n",
      "this is odd 111\n",
      "this is Even 114\n",
      "this is odd 117\n",
      "this is Even 120\n",
      "this is odd 123\n",
      "this is Even 126\n",
      "this is odd 129\n",
      "this is Even 132\n",
      "this is odd 135\n",
      "this is Even 138\n",
      "this is odd 141\n",
      "this is Even 144\n",
      "this is odd 147\n",
      "this is Even 150\n",
      "this is odd 153\n",
      "this is Even 156\n",
      "this is odd 159\n",
      "this is Even 162\n",
      "this is odd 165\n",
      "this is Even 168\n",
      "this is odd 171\n",
      "this is Even 174\n",
      "this is odd 177\n",
      "this is Even 180\n",
      "this is odd 183\n",
      "this is Even 186\n",
      "this is odd 189\n",
      "this is Even 192\n",
      "this is odd 195\n",
      "this is Even 198\n",
      "this is odd 201\n",
      "this is Even 204\n",
      "this is odd 207\n",
      "this is Even 210\n",
      "this is odd 213\n",
      "this is Even 216\n",
      "this is odd 219\n",
      "this is Even 222\n",
      "this is odd 225\n",
      "this is Even 228\n",
      "this is odd 231\n",
      "this is Even 234\n",
      "this is odd 237\n",
      "this is Even 240\n",
      "this is odd 243\n",
      "this is Even 246\n",
      "this is odd 249\n",
      "this is Even 252\n",
      "this is odd 255\n",
      "this is Even 258\n",
      "this is odd 261\n",
      "this is Even 264\n",
      "this is odd 267\n",
      "this is Even 270\n",
      "this is odd 273\n",
      "this is Even 276\n",
      "this is odd 279\n",
      "this is Even 282\n",
      "this is odd 285\n",
      "this is Even 288\n",
      "this is odd 291\n",
      "this is Even 294\n",
      "this is odd 297\n",
      "this is Even 300\n",
      "this is odd 303\n",
      "this is Even 306\n",
      "this is odd 309\n",
      "this is Even 312\n",
      "this is odd 315\n",
      "this is Even 318\n",
      "this is odd 321\n",
      "this is Even 324\n",
      "this is odd 327\n",
      "this is Even 330\n",
      "this is odd 333\n",
      "this is Even 336\n",
      "this is odd 339\n",
      "this is Even 342\n",
      "this is odd 345\n",
      "this is Even 348\n",
      "this is odd 351\n",
      "this is Even 354\n",
      "this is odd 357\n",
      "this is Even 360\n",
      "this is odd 363\n",
      "this is Even 366\n",
      "this is odd 369\n",
      "this is Even 372\n",
      "this is odd 375\n",
      "this is Even 378\n",
      "this is odd 381\n",
      "this is Even 384\n",
      "this is odd 387\n",
      "this is Even 390\n",
      "this is odd 393\n",
      "this is Even 396\n",
      "this is odd 399\n",
      "this is Even 402\n",
      "this is odd 405\n",
      "this is Even 408\n",
      "this is odd 411\n",
      "this is Even 414\n",
      "this is odd 417\n",
      "this is Even 420\n",
      "this is odd 423\n",
      "this is Even 426\n",
      "this is odd 429\n",
      "this is Even 432\n",
      "this is odd 435\n",
      "this is Even 438\n",
      "this is odd 441\n",
      "this is Even 444\n",
      "this is odd 447\n",
      "this is Even 450\n",
      "this is odd 453\n",
      "this is Even 456\n",
      "this is odd 459\n",
      "this is Even 462\n",
      "this is odd 465\n",
      "this is Even 468\n",
      "this is odd 471\n",
      "this is Even 474\n",
      "this is odd 477\n",
      "this is Even 480\n",
      "this is odd 483\n",
      "this is Even 486\n",
      "this is odd 489\n",
      "this is Even 492\n",
      "this is odd 495\n",
      "this is Even 498\n",
      "this is odd 501\n",
      "this is Even 504\n",
      "this is odd 507\n",
      "this is Even 510\n",
      "this is odd 513\n",
      "this is Even 516\n",
      "this is odd 519\n",
      "this is Even 522\n",
      "this is odd 525\n",
      "this is Even 528\n",
      "this is odd 531\n",
      "this is Even 534\n",
      "this is odd 537\n",
      "this is Even 540\n",
      "this is odd 543\n",
      "this is Even 546\n",
      "this is odd 549\n",
      "this is Even 552\n",
      "this is odd 555\n",
      "this is Even 558\n",
      "this is odd 561\n",
      "this is Even 564\n",
      "this is odd 567\n",
      "this is Even 570\n",
      "this is odd 573\n",
      "this is Even 576\n",
      "this is odd 579\n",
      "this is Even 582\n",
      "this is odd 585\n",
      "this is Even 588\n",
      "this is odd 591\n",
      "this is Even 594\n",
      "this is odd 597\n",
      "this is Even 600\n",
      "this is odd 603\n",
      "this is Even 606\n",
      "this is odd 609\n",
      "this is Even 612\n",
      "this is odd 615\n",
      "this is Even 618\n",
      "this is odd 621\n",
      "this is Even 624\n",
      "this is odd 627\n",
      "this is Even 630\n",
      "this is odd 633\n",
      "this is Even 636\n",
      "this is odd 639\n",
      "this is Even 642\n",
      "this is odd 645\n",
      "this is Even 648\n",
      "this is odd 651\n",
      "this is Even 654\n",
      "this is odd 657\n",
      "this is Even 660\n",
      "this is odd 663\n",
      "this is Even 666\n",
      "this is odd 669\n",
      "this is Even 672\n",
      "this is odd 675\n",
      "this is Even 678\n",
      "this is odd 681\n",
      "this is Even 684\n",
      "this is odd 687\n",
      "this is Even 690\n",
      "this is odd 693\n",
      "this is Even 696\n",
      "this is odd 699\n",
      "this is Even 702\n",
      "this is odd 705\n",
      "this is Even 708\n",
      "this is odd 711\n",
      "this is Even 714\n",
      "this is odd 717\n",
      "this is Even 720\n",
      "this is odd 723\n",
      "this is Even 726\n",
      "this is odd 729\n",
      "this is Even 732\n",
      "this is odd 735\n",
      "this is Even 738\n",
      "this is odd 741\n",
      "this is Even 744\n",
      "this is odd 747\n",
      "this is Even 750\n",
      "this is odd 753\n",
      "this is Even 756\n",
      "this is odd 759\n",
      "this is Even 762\n",
      "this is odd 765\n",
      "this is Even 768\n",
      "this is odd 771\n",
      "this is Even 774\n",
      "this is odd 777\n",
      "this is Even 780\n",
      "this is odd 783\n",
      "this is Even 786\n",
      "this is odd 789\n",
      "this is Even 792\n",
      "this is odd 795\n",
      "this is Even 798\n",
      "this is odd 801\n",
      "this is Even 804\n",
      "this is odd 807\n",
      "this is Even 810\n",
      "this is odd 813\n",
      "this is Even 816\n",
      "this is odd 819\n",
      "this is Even 822\n",
      "this is odd 825\n",
      "this is Even 828\n",
      "this is odd 831\n",
      "this is Even 834\n",
      "this is odd 837\n",
      "this is Even 840\n",
      "this is odd 843\n",
      "this is Even 846\n",
      "this is odd 849\n",
      "this is Even 852\n",
      "this is odd 855\n",
      "this is Even 858\n",
      "this is odd 861\n",
      "this is Even 864\n",
      "this is odd 867\n",
      "this is Even 870\n",
      "this is odd 873\n",
      "this is Even 876\n",
      "this is odd 879\n",
      "this is Even 882\n",
      "this is odd 885\n",
      "this is Even 888\n",
      "this is odd 891\n",
      "this is Even 894\n",
      "this is odd 897\n",
      "this is Even 900\n",
      "this is odd 903\n",
      "this is Even 906\n",
      "this is odd 909\n",
      "this is Even 912\n",
      "this is odd 915\n",
      "this is Even 918\n",
      "this is odd 921\n",
      "this is Even 924\n",
      "this is odd 927\n",
      "this is Even 930\n",
      "this is odd 933\n",
      "this is Even 936\n",
      "this is odd 939\n",
      "this is Even 942\n",
      "this is odd 945\n",
      "this is Even 948\n",
      "this is odd 951\n",
      "this is Even 954\n",
      "this is odd 957\n",
      "this is Even 960\n",
      "this is odd 963\n",
      "this is Even 966\n",
      "this is odd 969\n",
      "this is Even 972\n",
      "this is odd 975\n",
      "this is Even 978\n",
      "this is odd 981\n",
      "this is Even 984\n",
      "this is odd 987\n",
      "this is Even 990\n",
      "this is odd 993\n",
      "this is Even 996\n",
      "this is odd 999\n"
     ]
    }
   ],
   "source": [
    "number = range(0,1000,3)\n",
    "for num in number:\n",
    "    if num % 2 == 0:\n",
    "        print(f\"this is Even {num}\")\n",
    "    else: \n",
    "        print(f\"this is odd {num}\")"
   ]
  },
  {
   "cell_type": "markdown",
   "metadata": {},
   "source": [
    "We could have also put an <code>else</code> statement in there:"
   ]
  },
  {
   "cell_type": "code",
   "execution_count": 8,
   "metadata": {},
   "outputs": [
    {
     "name": "stdout",
     "output_type": "stream",
     "text": [
      "Odd number\n",
      "2\n",
      "Odd number\n",
      "4\n",
      "Odd number\n",
      "6\n",
      "Odd number\n",
      "8\n",
      "Odd number\n",
      "10\n"
     ]
    }
   ],
   "source": [
    "for num in list1:\n",
    "    if num % 2 == 0:\n",
    "        print(num)\n",
    "    else:\n",
    "        print('Odd number')"
   ]
  },
  {
   "cell_type": "code",
   "execution_count": 1,
   "metadata": {},
   "outputs": [],
   "source": [
    "None "
   ]
  },
  {
   "cell_type": "markdown",
   "metadata": {},
   "source": [
    "## Example 3\n",
    "Another common idea during a <code>for</code> loop is keeping some sort of running tally during multiple loops. For example, let's create a <code>for</code> loop that sums up the list:"
   ]
  },
  {
   "cell_type": "code",
   "execution_count": 9,
   "metadata": {},
   "outputs": [
    {
     "name": "stdout",
     "output_type": "stream",
     "text": [
      "55\n"
     ]
    }
   ],
   "source": [
    "# Start sum at zero\n",
    "list_sum = 0 \n",
    "\n",
    "for num in list1:\n",
    "    list_sum = list_sum + num\n",
    "\n",
    "print(list_sum)"
   ]
  },
  {
   "cell_type": "markdown",
   "metadata": {},
   "source": [
    "Great! Read over the above cell and make sure you understand fully what is going on. Also we could have implemented a <code>+=</code> to perform the addition towards the sum. For example:"
   ]
  },
  {
   "cell_type": "code",
   "execution_count": 10,
   "metadata": {},
   "outputs": [
    {
     "name": "stdout",
     "output_type": "stream",
     "text": [
      "55\n"
     ]
    }
   ],
   "source": [
    "# Start sum at zero\n",
    "list_sum = 0 \n",
    "\n",
    "for num in list1:\n",
    "    list_sum += num\n",
    "\n",
    "print(list_sum)"
   ]
  },
  {
   "cell_type": "markdown",
   "metadata": {},
   "source": [
    "## Example 4\n",
    "We've used <code>for</code> loops with lists, how about with strings? Remember strings are a sequence so when we iterate through them we will be accessing each item in that string."
   ]
  },
  {
   "cell_type": "code",
   "execution_count": 11,
   "metadata": {},
   "outputs": [
    {
     "name": "stdout",
     "output_type": "stream",
     "text": [
      "T\n",
      "h\n",
      "i\n",
      "s\n",
      " \n",
      "i\n",
      "s\n",
      " \n",
      "a\n",
      " \n",
      "s\n",
      "t\n",
      "r\n",
      "i\n",
      "n\n",
      "g\n",
      ".\n"
     ]
    }
   ],
   "source": [
    "for letter in 'This is a string.':\n",
    "    print(letter)"
   ]
  },
  {
   "cell_type": "markdown",
   "metadata": {},
   "source": [
    "## Example 5\n",
    "Let's now look at how a <code>for</code> loop can be used with a tuple:"
   ]
  },
  {
   "cell_type": "code",
   "execution_count": 12,
   "metadata": {},
   "outputs": [
    {
     "name": "stdout",
     "output_type": "stream",
     "text": [
      "1\n",
      "2\n",
      "3\n",
      "4\n",
      "5\n"
     ]
    }
   ],
   "source": [
    "tup = (1,2,3,4,5)\n",
    "\n",
    "for t in tup:\n",
    "    print(t)"
   ]
  },
  {
   "cell_type": "markdown",
   "metadata": {},
   "source": [
    "## Example 6\n",
    "Tuples have a special quality when it comes to <code>for</code> loops. If you are iterating through a sequence that contains tuples, the item can actually be the tuple itself, this is an example of *tuple unpacking*. During the <code>for</code> loop we will be unpacking the tuple inside of a sequence and we can access the individual items inside that tuple!"
   ]
  },
  {
   "cell_type": "code",
   "execution_count": 13,
   "metadata": {},
   "outputs": [],
   "source": [
    "list2 = [(2,4),(6,8),(10,12)]"
   ]
  },
  {
   "cell_type": "code",
   "execution_count": 14,
   "metadata": {},
   "outputs": [
    {
     "name": "stdout",
     "output_type": "stream",
     "text": [
      "(2, 4)\n",
      "(6, 8)\n",
      "(10, 12)\n"
     ]
    }
   ],
   "source": [
    "for tup in list2:\n",
    "    print(tup)"
   ]
  },
  {
   "cell_type": "code",
   "execution_count": 15,
   "metadata": {},
   "outputs": [
    {
     "name": "stdout",
     "output_type": "stream",
     "text": [
      "2\n",
      "6\n",
      "10\n"
     ]
    }
   ],
   "source": [
    "# Now with unpacking!\n",
    "for (t1,t2) in list2:\n",
    "    print(t1)"
   ]
  },
  {
   "cell_type": "markdown",
   "metadata": {},
   "source": [
    "Cool! With tuples in a sequence we can access the items inside of them through unpacking! The reason this is important is because many objects will deliver their iterables through tuples. Let's start exploring iterating through Dictionaries to explore this further!"
   ]
  },
  {
   "cell_type": "markdown",
   "metadata": {},
   "source": [
    "## Example 7"
   ]
  },
  {
   "cell_type": "code",
   "execution_count": 16,
   "metadata": {},
   "outputs": [],
   "source": [
    "d = {'k1':1,'k2':2,'k3':3}"
   ]
  },
  {
   "cell_type": "code",
   "execution_count": 17,
   "metadata": {},
   "outputs": [
    {
     "name": "stdout",
     "output_type": "stream",
     "text": [
      "k1\n",
      "k2\n",
      "k3\n"
     ]
    }
   ],
   "source": [
    "for item in d:\n",
    "    print(item)"
   ]
  },
  {
   "cell_type": "markdown",
   "metadata": {},
   "source": [
    "Notice how this produces only the keys. So how can we get the values? Or both the keys and the values? \n",
    "\n",
    "We're going to introduce three new Dictionary methods: **.keys()**, **.values()** and **.items()**\n",
    "\n",
    "In Python each of these methods return a *dictionary view object*. It supports operations like membership test and iteration, but its contents are not independent of the original dictionary – it is only a view. Let's see it in action:"
   ]
  },
  {
   "cell_type": "code",
   "execution_count": 18,
   "metadata": {},
   "outputs": [
    {
     "data": {
      "text/plain": [
       "dict_items([('k1', 1), ('k2', 2), ('k3', 3)])"
      ]
     },
     "execution_count": 18,
     "metadata": {},
     "output_type": "execute_result"
    }
   ],
   "source": [
    "# Create a dictionary view object\n",
    "d.items()"
   ]
  },
  {
   "cell_type": "markdown",
   "metadata": {},
   "source": [
    "Since the .items() method supports iteration, we can perform *dictionary unpacking* to separate keys and values just as we did in the previous examples."
   ]
  },
  {
   "cell_type": "code",
   "execution_count": 19,
   "metadata": {},
   "outputs": [
    {
     "name": "stdout",
     "output_type": "stream",
     "text": [
      "k1\n",
      "1\n",
      "k2\n",
      "2\n",
      "k3\n",
      "3\n"
     ]
    }
   ],
   "source": [
    "# Dictionary unpacking\n",
    "for k,v in d.items():\n",
    "    print(k)\n",
    "    print(v) "
   ]
  },
  {
   "cell_type": "markdown",
   "metadata": {},
   "source": [
    "If you want to obtain a true list of keys, values, or key/value tuples, you can *cast* the view as a list:"
   ]
  },
  {
   "cell_type": "code",
   "execution_count": 20,
   "metadata": {},
   "outputs": [
    {
     "data": {
      "text/plain": [
       "['k1', 'k2', 'k3']"
      ]
     },
     "execution_count": 20,
     "metadata": {},
     "output_type": "execute_result"
    }
   ],
   "source": [
    "list(d.keys())"
   ]
  },
  {
   "cell_type": "markdown",
   "metadata": {},
   "source": [
    "Remember that dictionaries are unordered, and that keys and values come back in arbitrary order. You can obtain a sorted list using sorted():"
   ]
  },
  {
   "cell_type": "code",
   "execution_count": 21,
   "metadata": {},
   "outputs": [
    {
     "data": {
      "text/plain": [
       "[1, 2, 3]"
      ]
     },
     "execution_count": 21,
     "metadata": {},
     "output_type": "execute_result"
    }
   ],
   "source": [
    "sorted(d.values())"
   ]
  },
  {
   "cell_type": "markdown",
   "metadata": {},
   "source": [
    "## Conclusion\n",
    "\n",
    "We've learned how to use for loops to iterate through tuples, lists, strings, and dictionaries. It will be an important tool for us, so make sure you know it well and understood the above examples.\n",
    "\n",
    "[More resources](http://www.tutorialspoint.com/python/python_for_loop.htm)"
   ]
  }
 ],
 "metadata": {
  "kernelspec": {
   "display_name": "Python 3",
   "language": "python",
   "name": "python3"
  },
  "language_info": {
   "codemirror_mode": {
    "name": "ipython",
    "version": 3
   },
   "file_extension": ".py",
   "mimetype": "text/x-python",
   "name": "python",
   "nbconvert_exporter": "python",
   "pygments_lexer": "ipython3",
   "version": "3.7.3"
  }
 },
 "nbformat": 4,
 "nbformat_minor": 1
}
